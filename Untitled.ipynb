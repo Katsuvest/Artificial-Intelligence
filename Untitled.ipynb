{
 "cells": [
  {
   "cell_type": "markdown",
   "id": "d94b161f",
   "metadata": {},
   "source": [
    "# Select topic that is being updated"
   ]
  },
  {
   "cell_type": "code",
   "execution_count": 4,
   "id": "c9751e33",
   "metadata": {},
   "outputs": [],
   "source": [
    "topic = \"Data-Manipulation\""
   ]
  },
  {
   "cell_type": "markdown",
   "id": "50889132",
   "metadata": {},
   "source": [
    "# Rename certificates in preparation to be exported to GITHUB"
   ]
  },
  {
   "cell_type": "markdown",
   "id": "78b4671b",
   "metadata": {},
   "source": [
    "import os\n",
    "\n",
    "def rename_certificates(directory_path):\n",
    "    # List all files in the directory\n",
    "    files = os.listdir(directory_path)\n",
    "\n",
    "    for file_name in files:\n",
    "        # Construct the full path to the file\n",
    "        old_file_path = os.path.join(directory_path, file_name)\n",
    "\n",
    "        # remove white spaces from file name\n",
    "        new_file_name = file_name.replace(\" - \", \"-\").replace(\" \", \"_\")\n",
    "        new_file_path = os.path.join(directory_path, new_file_name)\n",
    "\n",
    "        # Rename the file\n",
    "        os.rename(old_file_path, new_file_path)\n",
    "\n",
    "if __name__ == \"__main__\":\n",
    "    # Provide the path to your directory containing certificates\n",
    "    certificates_directory = r\"C:\\Users\\User\\Documents\\Andrew\\Datacamp\\Certificates\\to be exported\"\n",
    "\n",
    "    # Call the function to rename the certificates\n",
    "    rename_certificates(certificates_directory)"
   ]
  },
  {
   "cell_type": "markdown",
   "id": "40bb463c",
   "metadata": {},
   "source": [
    "# Transfer certificates to GITHUB Directories"
   ]
  },
  {
   "cell_type": "code",
   "execution_count": 5,
   "id": "a8be559e",
   "metadata": {},
   "outputs": [
    {
     "name": "stdout",
     "output_type": "stream",
     "text": [
      "File '.ipynb_checkpoints' moved to 'C:\\Users\\User\\Documents\\GitHub\\Courses\\Data-Manipulation\\'\n",
      "File '20230106_Intermediate_Deep_Learning_with_PyTorch-certificate.pdf' moved to 'C:\\Users\\User\\Documents\\GitHub\\Courses\\Data-Manipulation\\Intermediate_Deep_Learning_with_PyTorch'\n",
      "File '20231228_Data_Structures_and_Algorithms_in_Python-certificate.pdf' moved to 'C:\\Users\\User\\Documents\\GitHub\\Courses\\Data-Manipulation\\Data_Structures_and_Algorithms_in_Python'\n",
      "File '20240102_Ensemble_Methods_in_Python-certificate.pdf' moved to 'C:\\Users\\User\\Documents\\GitHub\\Courses\\Data-Manipulation\\Ensemble_Methods_in_Python'\n",
      "File '20240104_Introduction_to_Deep_Learning_with_PyTorch-certificate.pdf' moved to 'C:\\Users\\User\\Documents\\GitHub\\Courses\\Data-Manipulation\\Introduction_to_Deep_Learning_with_PyTorch'\n",
      "File '20240110_Deep_Learning_for_Text_with_PyTorch-certificate.pdf' moved to 'C:\\Users\\User\\Documents\\GitHub\\Courses\\Data-Manipulation\\Deep_Learning_for_Text_with_PyTorch'\n",
      "File '20240801_Deep_Learning_for_Images_with_PyTorch-certificate.pdf' moved to 'C:\\Users\\User\\Documents\\GitHub\\Courses\\Data-Manipulation\\Deep_Learning_for_Images_with_PyTorch'\n",
      "File 'Untitled.ipynb' moved to 'C:\\Users\\User\\Documents\\GitHub\\Courses\\Data-Manipulation\\'\n"
     ]
    }
   ],
   "source": [
    "import os\n",
    "import shutil\n",
    "\n",
    "def rename_and_move_certificates(source_directory, destination_homepath):\n",
    "    # List all files in the source directory\n",
    "    files = os.listdir(source_directory)\n",
    "\n",
    "    for file_name in files:\n",
    "        # Construct the full path to the source file\n",
    "        source_file_path = os.path.join(source_directory, file_name)\n",
    "\n",
    "        # Modify the file name\n",
    "        new_file_name = file_name.replace(\" - \", \"-\").replace(\" \", \"_\")\n",
    "\n",
    "        # Extract the relevant part of the file name for creating the destination folder\n",
    "        folder_name = new_file_name[9:-16]\n",
    "\n",
    "        # Construct the full path to the destination folder\n",
    "        destination_folder = os.path.join(destination_homepath, topic, folder_name)\n",
    "\n",
    "        # Construct the full path to the destination file\n",
    "        destination_file_path = os.path.join(destination_folder, new_file_name)\n",
    "\n",
    "        try:\n",
    "            # Create the destination folder if it doesn't exist\n",
    "            os.makedirs(destination_folder, exist_ok=True)\n",
    "\n",
    "            # Move the file to the destination folder\n",
    "            shutil.move(source_file_path, destination_file_path)\n",
    "\n",
    "            print(f\"File '{file_name}' moved to '{destination_folder}'\")\n",
    "        except Exception as e:\n",
    "            print(f\"Error moving '{file_name}': {str(e)}\")\n",
    "\n",
    "if __name__ == \"__main__\":\n",
    "    # Provide the path to the source directory containing certificates\n",
    "    source_directory = r\"C:\\Users\\User\\Documents\\Andrew\\Datacamp\\Certificates\\to be exported\"\n",
    "\n",
    "    # Provide the path to the destination homepath\n",
    "    destination_homepath = r\"C:\\Users\\User\\Documents\\GitHub\\Courses\"\n",
    "\n",
    "    # Call the function to rename and move the certificates\n",
    "    rename_and_move_certificates(source_directory, destination_homepath)"
   ]
  },
  {
   "cell_type": "code",
   "execution_count": null,
   "id": "04702c12",
   "metadata": {},
   "outputs": [],
   "source": []
  }
 ],
 "metadata": {
  "kernelspec": {
   "display_name": "py310",
   "language": "python",
   "name": "py310"
  },
  "language_info": {
   "codemirror_mode": {
    "name": "ipython",
    "version": 3
   },
   "file_extension": ".py",
   "mimetype": "text/x-python",
   "name": "python",
   "nbconvert_exporter": "python",
   "pygments_lexer": "ipython3",
   "version": "3.10.12"
  },
  "toc": {
   "base_numbering": 1,
   "nav_menu": {},
   "number_sections": true,
   "sideBar": true,
   "skip_h1_title": false,
   "title_cell": "Table of Contents",
   "title_sidebar": "Contents",
   "toc_cell": false,
   "toc_position": {},
   "toc_section_display": true,
   "toc_window_display": false
  }
 },
 "nbformat": 4,
 "nbformat_minor": 5
}
